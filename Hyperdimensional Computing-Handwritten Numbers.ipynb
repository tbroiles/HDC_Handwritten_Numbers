{
 "cells": [
  {
   "cell_type": "markdown",
   "id": "d1fe5bbb",
   "metadata": {},
   "source": [
    "## Python Setup\n",
    "\n",
    "### Python Version 3.11.3\n",
    "\n",
    "### Module Imports\n",
    "- Matplotlib for plotting\n",
    "- Numpy for all of the analysis\n",
    "- sklearn to load the data set, compute the confusion matrix, and split the data into training and test sets."
   ]
  },
  {
   "cell_type": "code",
   "execution_count": 1,
   "id": "0d6195a6",
   "metadata": {
    "ExecuteTime": {
     "end_time": "2023-05-11T02:48:10.898406Z",
     "start_time": "2023-05-11T02:48:09.919292Z"
    }
   },
   "outputs": [],
   "source": [
    "import matplotlib.pyplot as plt\n",
    "import numpy as np\n",
    "from numpy.typing import NDArray\n",
    "from sklearn.datasets import load_digits\n",
    "from sklearn.metrics import confusion_matrix\n",
    "from sklearn.model_selection import train_test_split"
   ]
  },
  {
   "cell_type": "markdown",
   "id": "5c780654",
   "metadata": {},
   "source": [
    "## Data Visualization\n",
    "Data is 2 groups:\n",
    "- `X`: 1797 64 pixel vectors representing hand written numbers between 0 and 9.  Pixel values between 0 and 16.\n",
    "- `Y`: 1797 numbers between 0 and 9 representing the true values of X."
   ]
  },
  {
   "cell_type": "code",
   "execution_count": 2,
   "id": "7ddd03a5",
   "metadata": {
    "ExecuteTime": {
     "end_time": "2023-05-11T02:48:11.524305Z",
     "start_time": "2023-05-11T02:48:10.900903Z"
    }
   },
   "outputs": [
    {
     "data": {
      "image/png": "[encoded data removed]",
      "text/plain": [
       "<Figure size 640x480 with 4 Axes>"
      ]
     },
     "metadata": {},
     "output_type": "display_data"
    }
   ],
   "source": [
    "digits_data = load_digits()\n",
    "X = digits_data[\"data\"].astype(np.int8)\n",
    "Y = digits_data[\"target\"]\n",
    "\n",
    "fig, ax = plt.subplots(ncols=2, nrows=2)\n",
    "\n",
    "ax[0][0].imshow(X[0].reshape(8, 8), cmap=\"binary\")\n",
    "ax[0][0].set_title(f\"Labeled: {Y[0]}\")\n",
    "ax[0][1].imshow(X[59].reshape(8, 8), cmap=\"binary\")\n",
    "ax[0][1].set_title(f\"Labeled: {Y[59]}\")\n",
    "ax[1][0].imshow(X[449].reshape(8, 8), cmap=\"binary\")\n",
    "ax[1][0].set_title(f\"Labeled: {Y[449]}\")\n",
    "ax[1][1].imshow(X[1338].reshape(8, 8), cmap=\"binary\")\n",
    "ax[1][1].set_title(f\"Labeled: {Y[1338]}\")\n",
    "fig.tight_layout()"
   ]
  },
  {
   "cell_type": "markdown",
   "id": "77a46912",
   "metadata": {},
   "source": [
    "## Hyperdimensional Vectors\n",
    "### Vector Definition\n",
    "The lambda function below generates a set of `x` vectors with 10000 dimensions, value of 1 or -1 randomly assigned."
   ]
  },
  {
   "cell_type": "code",
   "execution_count": 3,
   "id": "87ff64f3",
   "metadata": {
    "ExecuteTime": {
     "end_time": "2023-05-11T02:48:11.529470Z",
     "start_time": "2023-05-11T02:48:11.526677Z"
    }
   },
   "outputs": [],
   "source": [
    "hdv = lambda x: np.random.choice([-1, 1], (x, 10000)).astype(np.int8)"
   ]
  },
  {
   "cell_type": "markdown",
   "id": "3ade2112",
   "metadata": {},
   "source": [
    "### Vector Operations\n",
    "- `bundle`: Sums a collection of vectors along each dimension and returns the sign of each dimension. Used to aggregate vectors of the same type.\n",
    "- `bind`: Multiplies a set of vectors along each dimension. Used to combine vectors representing data of different types.\n",
    "- `shift`: Shifts a group of vectors by k dimensions (e.g., shift([1, -1, 1], k=1) -> [1, 1, -1]).\n",
    "- `cos_sim`: Computes the cosine similarity of two vectors.  Used to compare how alike two vectors are.  Unrelated vectors are very likely to be orthogonal to one another due to the number of dimensions, and consequently will return a value of 0.\n",
    "\n",
    "#### Reversability \n",
    "Each of these operations are reversible.  So the original components can always be recovered.  For example:\n",
    "- bundle(A, B) = C; bundle(A, C) = B\n",
    "- bind(A, B) = C; bind(B, C) = A\n",
    "- shift(shift(A, k=1), k=-1) = A\n",
    "\n",
    "#### Vector Likeness\n",
    "Despite the fact that vectors are randomly assigned, any two vectors still share a large number of values.  Consquently, aggregating or binding vectors tends to highlight related features."
   ]
  },
  {
   "cell_type": "code",
   "execution_count": 4,
   "id": "66703adb",
   "metadata": {
    "ExecuteTime": {
     "end_time": "2023-05-11T02:48:11.537296Z",
     "start_time": "2023-05-11T02:48:11.531965Z"
    }
   },
   "outputs": [],
   "source": [
    "def bundle(vecs: NDArray[int]) -> NDArray[int]:\n",
    "    return np.sign(vecs.sum(axis=0))\n",
    "\n",
    "def bind(vecs: NDArray[int]) -> NDArray[int]:\n",
    "    return np.sign(vecs.prod(axis=0))\n",
    "\n",
    "def shift(vecs: NDArray[int], k: int=1) -> NDArray[int]:\n",
    "    return np.roll(vecs, axis=-1, shift=k)\n",
    "\n",
    "def cos_sim(vec1: NDArray[int], vec2: NDArray[int]) -> float:\n",
    "    return vec1.dot(vec2.T) / (np.linalg.norm(vec1, axis=-1) * np.linalg.norm(vec2, axis=-1))"
   ]
  },
  {
   "cell_type": "markdown",
   "id": "bc072840",
   "metadata": {},
   "source": [
    "## Data Representation\n",
    "### Base data representation\n",
    "- `numbers`: Just a 10 x 10000 matrix.  For example, the number 2 is represented by `numbers[2, :]`.\n",
    "- `pixels`: Each unique pixel value similarly represented by a 17 x 10000 matrix."
   ]
  },
  {
   "cell_type": "code",
   "execution_count": 5,
   "id": "cd50e108",
   "metadata": {
    "ExecuteTime": {
     "end_time": "2023-05-11T02:48:11.547110Z",
     "start_time": "2023-05-11T02:48:11.540448Z"
    }
   },
   "outputs": [],
   "source": [
    "numbers = hdv(10)\n",
    "pixels = hdv(17)"
   ]
  },
  {
   "cell_type": "markdown",
   "id": "b786d11c",
   "metadata": {},
   "source": [
    "### Image Representation\n",
    "Each image is just a bundle of the unique pixel vectors, but order of the pixels matter too, so we must also include a shift for each subsequent pixel. Ultimately, each image will be represented by a single vector of 10000 dimensions.\n",
    "\n",
    "$v_{image} = \\Sigma_i shift(v_{pixel}, k=i)$"
   ]
  },
  {
   "cell_type": "code",
   "execution_count": 6,
   "id": "ad1cf78b",
   "metadata": {
    "ExecuteTime": {
     "end_time": "2023-05-11T02:48:11.554296Z",
     "start_time": "2023-05-11T02:48:11.548984Z"
    }
   },
   "outputs": [],
   "source": [
    "def encode_images(images: NDArray[int], pixels: NDArray[int]=pixels) -> NDArray[int]:\n",
    "    return np.array([bundle(np.array([shift(pixels[p], k=i) for i, p in enumerate(im)])) for im in images])"
   ]
  },
  {
   "cell_type": "markdown",
   "id": "b524d66e",
   "metadata": {},
   "source": [
    "### Model Creation\n",
    "Despite the random assignment of the base data, each image is created in a systematic way.  Consquently, vectors representing images of 0's are similar.  So by bundling all of the image vectors with the same label, we can produce a single vector that shares like features from the original image vectors. By binding that aggregate vector by its label we compute its model.  We end up with a matrix of 10 x 10000 as our model.\n",
    "\n",
    "$M_i = (\\Sigma_i vec_{im}) * vec_{i}$"
   ]
  },
  {
   "cell_type": "code",
   "execution_count": 7,
   "id": "8d20c753",
   "metadata": {
    "ExecuteTime": {
     "end_time": "2023-05-11T02:48:13.985257Z",
     "start_time": "2023-05-11T02:48:11.556718Z"
    }
   },
   "outputs": [],
   "source": [
    "train_X, test_X, train_Y, test_Y = train_test_split(X, Y, test_size=0.2)\n",
    "models = np.array([bind(np.vstack((bundle(encode_images(train_X[train_Y==i, :])), numbers[i, :]))) \n",
    "                   for i in range(numbers.shape[0])])"
   ]
  },
  {
   "cell_type": "markdown",
   "id": "4eb63b26",
   "metadata": {},
   "source": [
    "### Decoding Numbers from Images\n",
    "As mentioned previously, the bind operation is reversible.  So to compute a prediction for the label we just bind an image to each model, and choose the output with the largest cosine similarity.  This works because the image vector is similar to the aggregate vector for the same number, and binding it to the right model produces a vector that is necessarily close to the associated label vector.\n",
    "\n",
    "$vec_{im} * M_i = vec_i$"
   ]
  },
  {
   "cell_type": "code",
   "execution_count": 8,
   "id": "6b0442dd",
   "metadata": {
    "ExecuteTime": {
     "end_time": "2023-05-11T02:48:13.990697Z",
     "start_time": "2023-05-11T02:48:13.987169Z"
    }
   },
   "outputs": [],
   "source": [
    "def decode_numbers(vecs: NDArray[int], numbers: NDArray[int]=numbers, models: NDArray[int]=models) -> NDArray[float]:\n",
    "    return np.array([np.argmax(cos_sim(np.sign(models * vec), numbers).diagonal()) for vec in vecs])"
   ]
  },
  {
   "cell_type": "code",
   "execution_count": 9,
   "id": "689fa2c1",
   "metadata": {
    "ExecuteTime": {
     "end_time": "2023-05-11T02:48:17.510713Z",
     "start_time": "2023-05-11T02:48:13.992414Z"
    }
   },
   "outputs": [],
   "source": [
    "train_predictions = decode_numbers(encode_images(train_X))\n",
    "train_class_matrix = confusion_matrix(train_Y, train_predictions)"
   ]
  },
  {
   "cell_type": "code",
   "execution_count": 10,
   "id": "05431dde",
   "metadata": {
    "ExecuteTime": {
     "end_time": "2023-05-11T02:48:18.429570Z",
     "start_time": "2023-05-11T02:48:17.512639Z"
    }
   },
   "outputs": [],
   "source": [
    "test_predictions = decode_numbers(encode_images(test_X))\n",
    "test_class_matrix = confusion_matrix(test_Y, test_predictions)"
   ]
  },
  {
   "cell_type": "markdown",
   "id": "c4812870",
   "metadata": {},
   "source": [
    "## Model Accuracy\n",
    "### Confusion Matrix of the Training Dataset"
   ]
  },
  {
   "cell_type": "code",
   "execution_count": 15,
   "id": "d44a831e",
   "metadata": {
    "ExecuteTime": {
     "end_time": "2023-05-11T03:41:16.214433Z",
     "start_time": "2023-05-11T03:41:15.941089Z"
    }
   },
   "outputs": [
    {
     "data": {
      "text/plain": [
       "<matplotlib.colorbar.Colorbar at 0x12cfb1bd0>"
      ]
     },
     "execution_count": 15,
     "metadata": {},
     "output_type": "execute_result"
    },
    {
     "data": {
      "image/png": "[encoded data removed]",
      "text/plain": [
       "<Figure size 640x480 with 2 Axes>"
      ]
     },
     "metadata": {},
     "output_type": "display_data"
    }
   ],
   "source": [
    "plt.imshow(train_class_matrix)\n",
    "plt.colorbar()"
   ]
  },
  {
   "cell_type": "markdown",
   "id": "4f76ba12",
   "metadata": {},
   "source": [
    "### Confusion Matrix of the Test Data Set"
   ]
  },
  {
   "cell_type": "code",
   "execution_count": 16,
   "id": "600a0fd1",
   "metadata": {
    "ExecuteTime": {
     "end_time": "2023-05-11T03:41:26.730522Z",
     "start_time": "2023-05-11T03:41:26.470845Z"
    }
   },
   "outputs": [
    {
     "data": {
      "text/plain": [
       "<matplotlib.colorbar.Colorbar at 0x12d084610>"
      ]
     },
     "execution_count": 16,
     "metadata": {},
     "output_type": "execute_result"
    },
    {
     "data": {
      "image/png": "[encoded data removed]",
      "text/plain": [
       "<Figure size 640x480 with 2 Axes>"
      ]
     },
     "metadata": {},
     "output_type": "display_data"
    }
   ],
   "source": [
    "plt.imshow(test_class_matrix)\n",
    "plt.colorbar()"
   ]
  },
  {
   "cell_type": "markdown",
   "id": "60b6ae41",
   "metadata": {},
   "source": [
    "### Model Accuracy on the Test Dataset\n",
    "Model accuracy varies but typically returns a value between 90% - 95%. The methodology shown here deterministic, and consequently reproducible.  However, the training and test datasets are random, so the final results vary as well."
   ]
  },
  {
   "cell_type": "code",
   "execution_count": 13,
   "id": "646b03f6",
   "metadata": {
    "ExecuteTime": {
     "end_time": "2023-05-11T02:48:18.783530Z",
     "start_time": "2023-05-11T02:48:18.779836Z"
    }
   },
   "outputs": [
    {
     "name": "stdout",
     "output_type": "stream",
     "text": [
      "Accuracy: 87.5%\n"
     ]
    }
   ],
   "source": [
    "acc = 100 * test_class_matrix.diagonal().sum() / test_class_matrix.sum()\n",
    "\n",
    "print(f\"Accuracy: {acc}%\")"
   ]
  }
 ],
 "metadata": {
  "kernelspec": {
   "display_name": "Python 3 (ipykernel)",
   "language": "python",
   "name": "python3"
  },
  "language_info": {
   "codemirror_mode": {
    "name": "ipython",
    "version": 3
   },
   "file_extension": ".py",
   "mimetype": "text/x-python",
   "name": "python",
   "nbconvert_exporter": "python",
   "pygments_lexer": "ipython3",
   "version": "3.11.3"
  },
  "toc": {
   "base_numbering": 1,
   "nav_menu": {},
   "number_sections": true,
   "sideBar": true,
   "skip_h1_title": false,
   "title_cell": "Table of Contents",
   "title_sidebar": "Contents",
   "toc_cell": false,
   "toc_position": {},
   "toc_section_display": true,
   "toc_window_display": false
  },
  "varInspector": {
   "cols": {
    "lenName": 16,
    "lenType": 16,
    "lenVar": 40
   },
   "kernels_config": {
    "python": {
     "delete_cmd_postfix": "",
     "delete_cmd_prefix": "del ",
     "library": "var_list.py",
     "varRefreshCmd": "print(var_dic_list())"
    },
    "r": {
     "delete_cmd_postfix": ") ",
     "delete_cmd_prefix": "rm(",
     "library": "var_list.r",
     "varRefreshCmd": "cat(var_dic_list()) "
    }
   },
   "types_to_exclude": [
    "module",
    "function",
    "builtin_function_or_method",
    "instance",
    "_Feature"
   ],
   "window_display": false
  }
 },
 "nbformat": 4,
 "nbformat_minor": 5
}
